{
 "cells": [
  {
   "cell_type": "code",
   "execution_count": 16,
   "metadata": {},
   "outputs": [
    {
     "name": "stdout",
     "output_type": "stream",
     "text": [
      "Bark !!!\n"
     ]
    }
   ],
   "source": [
    "#Ques.1 Create a parent class Animal with a method speak() that prints a generic message. Create a child class Dog\n",
    "#that overrides the speak() method to print \"Bark!\". '''\n",
    "\n",
    "class Animal:\n",
    "    def speak(self):\n",
    "        print(\"Animal sound\")\n",
    "class Dog(Animal):\n",
    "    def speak(self):\n",
    "        print(\"Bark !!!\")\n",
    "c1 = Dog()\n",
    "c1.speak()\n",
    " \n",
    "\n"
   ]
  },
  {
   "cell_type": "code",
   "execution_count": 20,
   "metadata": {},
   "outputs": [
    {
     "name": "stdout",
     "output_type": "stream",
     "text": [
      "The area of Circle -> pie * radius ** 2\n",
      "The area of Rectangle -> Length * Breadth\n"
     ]
    }
   ],
   "source": [
    "#Ques.2 Write a program to create an abstract class Shape with a method area(). Derive classes Circle and Rectangle\n",
    "# from it and implement the area() method in both.\n",
    "\n",
    "import abc\n",
    "class Shape:\n",
    "    @abc.abstractmethod\n",
    "    def area(self):\n",
    "        pass\n",
    "class Circle(Shape):\n",
    "    def area (self):\n",
    "        print(\"The area of Circle -> pie * radius ** 2\")\n",
    "class Rectangle(Shape):\n",
    "    def area(self):\n",
    "        print(\"The area of Rectangle -> Length * Breadth\")\n",
    "\n",
    "s1 = Circle()\n",
    "s2 = Rectangle()\n",
    "\n",
    "s1.area()\n",
    "s2.area()\n",
    "\n"
   ]
  },
  {
   "cell_type": "code",
   "execution_count": 30,
   "metadata": {},
   "outputs": [
    {
     "name": "stdout",
     "output_type": "stream",
     "text": [
      "Its a 4_wheeler of Tesla company with battery capacity 85 \n",
      "Its a 4_wheeler of Mahindra company with battery capacity 55 \n"
     ]
    }
   ],
   "source": [
    "#Ques.3  Implement a multi-level inheritance scenario where a class Vehicle has an attribute type. Derive a class Car\n",
    "# and further derive a class ElectricCar that adds a battery attribute.\n",
    "\n",
    "class Vehicle:\n",
    "    def __init__(self , Vehicle_type):\n",
    "        self.Vehicle_type = Vehicle_type\n",
    "    def CarInfo(self):\n",
    "        print(f\"Its is {self.Vehicle_type}\")\n",
    "class Car(Vehicle):\n",
    "    def __init__(self , Vehicle_type , Model):\n",
    "        super().__init__(Vehicle_type)\n",
    "        self.Model = Model\n",
    "    def CarInfo(self):\n",
    "        print(f\"Its a {self.Vehicle_type} of {self.Model} company \")\n",
    "class ElecricCar(Car):\n",
    "    def __init__(self , Vehicle_type , Model , Battery_capacity):\n",
    "        self.Battery_capacity = Battery_capacity\n",
    "        super().__init__(Vehicle_type , Model)\n",
    "    def CarInfo(self):\n",
    "        print(f\"Its a {self.Vehicle_type} of {self.Model} company with battery capacity {self.Battery_capacity} \" )\n",
    "\n",
    "E_car1 = ElecricCar(\"4_wheeler\" , \"Tesla\" , 85)\n",
    "E_car1.CarInfo()\n",
    "\n",
    "E_car2 = ElecricCar(\"4_wheeler\" , \"Mahindra\" , 55)\n",
    "E_car2.CarInfo()\n",
    "\n",
    "\n",
    "\n"
   ]
  },
  {
   "cell_type": "code",
   "execution_count": 32,
   "metadata": {},
   "outputs": [
    {
     "name": "stdout",
     "output_type": "stream",
     "text": [
      "Sparrow is flying in the sky.\n",
      "Penguin is flying in the sky.\n"
     ]
    }
   ],
   "source": [
    "#Ques.4  Demonstrate polymorphism by creating a base class Bird with a method fly(). Create two derived classes\n",
    "# Sparrow and Penguin that override the fly() method.\n",
    "\n",
    "class Bird:\n",
    "    def fly(self):\n",
    "        print(\"Bird is flying in the sky.\")\n",
    "class Sparrow(Bird):\n",
    "    def fly(self):\n",
    "        print(\"Sparrow is flying in the sky.\")\n",
    "class Penguin(Bird):\n",
    "    def fly(self):\n",
    "        print(\"Penguin is flying in the sky.\")\n",
    "\n",
    "B1 = Sparrow()\n",
    "B1.fly()\n",
    "B2 = Penguin()\n",
    "B2.fly()"
   ]
  },
  {
   "cell_type": "code",
   "execution_count": 40,
   "metadata": {},
   "outputs": [
    {
     "data": {
      "text/plain": [
       "'Your Account Balance is 800'"
      ]
     },
     "execution_count": 40,
     "metadata": {},
     "output_type": "execute_result"
    }
   ],
   "source": [
    "#Ques.5  Write a program to demonstrate encapsulation by creating a class BankAccount with private attributes\n",
    "# balance and methods to deposit, withdraw, and check balance.\n",
    "\n",
    "class BankAccount:\n",
    "    def __init__(self , Balance):\n",
    "        self.__Balance = Balance\n",
    "    def Deposit(self , Amount):\n",
    "        self.__Amount = Amount\n",
    "        if Amount <500 :\n",
    "            return \"Please enter a Valid minimum Amount\"\n",
    "        else:\n",
    "            self.__Balance = self.__Amount + self.__Balance\n",
    "            return \"Money Deposited Successfully\"\n",
    "    def Withdraw(self , Withdraw_amount):\n",
    "        self.__Withdraw_amount = Withdraw_amount\n",
    "        self.__Balance = self.__Balance - self.__Withdraw_amount\n",
    "        return \"Money Withdrawn Successfully\"\n",
    "    def Check_Balance(self):\n",
    "        return f\"Your Account Balance is {self.__Balance}\"\n",
    "\n",
    "Customer1 = BankAccount(1000)\n",
    "Customer1.Deposit(500)\n",
    "Customer1.Check_Balance()\n",
    "Customer1.Withdraw(700)\n",
    "Customer1.Check_Balance()\n"
   ]
  },
  {
   "cell_type": "code",
   "execution_count": 114,
   "metadata": {},
   "outputs": [
    {
     "name": "stdout",
     "output_type": "stream",
     "text": [
      "Guitar is Playing...\n",
      "Instrument is Playing...\n"
     ]
    }
   ],
   "source": [
    "#Ques.6  Demonstrate runtime polymorphism using a method play() in a base class Instrument. Derive classes Guitar\n",
    "# and Piano that implement their own version of play().\n",
    "\n",
    "class Instrument:\n",
    "    def play(self):\n",
    "        print(\"Instrument is Playing...\")\n",
    "class Guitar(Instrument):\n",
    "    def play(self):\n",
    "        print(\"Guitar is Playing...\")\n",
    "class Piano(Instrument):\n",
    "    def play(self):\n",
    "        print(\"Instrument is Playing...\")\n",
    "\n",
    "Instrument1 = Guitar()\n",
    "Instrument1.play()\n",
    "\n",
    "Instrument2 = Piano()\n",
    "Instrument2.play()\n"
   ]
  },
  {
   "cell_type": "code",
   "execution_count": 51,
   "metadata": {},
   "outputs": [
    {
     "data": {
      "text/plain": [
       "5"
      ]
     },
     "execution_count": 51,
     "metadata": {},
     "output_type": "execute_result"
    }
   ],
   "source": [
    "#Ques.7  Create a class MathOperations with a class method add_numbers() to add two numbers and a static\n",
    "# method subtract_numbers() to subtract two numbers.\n",
    "\n",
    "class MathOperations:\n",
    "    def add_numbers(self , x , y):\n",
    "        return x + y\n",
    "    @staticmethod\n",
    "    def subtract_numbers( x , y):\n",
    "        return x-y\n",
    "    \n",
    "Op1 = MathOperations()\n",
    "# Op1.add_numbers(5,10)\n",
    "Op1.subtract_numbers(10,5)"
   ]
  },
  {
   "cell_type": "code",
   "execution_count": 119,
   "metadata": {},
   "outputs": [
    {
     "name": "stdout",
     "output_type": "stream",
     "text": [
      "Total Persons Created: 2\n"
     ]
    }
   ],
   "source": [
    "#Ques.8  Implement a class Person with a class method to count the total number of persons created.\n",
    "\n",
    "class Person:\n",
    "    count = 0\n",
    "    def __init__(self,count = 1):\n",
    "        Person.count += 1\n",
    "    @classmethod\n",
    "    def info(cls):\n",
    "        return print(f\"Total Persons Created: {Person.count}\")\n",
    "    \n",
    "p1 = Person()\n",
    "p2 = Person()\n",
    "\n",
    "p2.info()\n"
   ]
  },
  {
   "cell_type": "code",
   "execution_count": 130,
   "metadata": {},
   "outputs": [
    {
     "name": "stdout",
     "output_type": "stream",
     "text": [
      "2/3\n",
      "5/8\n"
     ]
    }
   ],
   "source": [
    "#Ques.9  Write a class Fraction with attributes numerator and denominator. Override the str method to display the\n",
    "# fraction as \"numerator/denominator\".\n",
    "\n",
    "\n",
    "class Fraction:\n",
    "    def __init__(self, numerator, denominator):\n",
    "        self.numerator = numerator\n",
    "        self.denominator = denominator\n",
    "    def __str__(self):\n",
    "        return f\"{self.numerator}/{self.denominator}\"\n",
    "    def show(self):\n",
    "        print(f\"{self.numerator}/{self.denominator}\")\n",
    "\n",
    "F1 = Fraction(2,3)\n",
    "F1.show()\n",
    "F2 = Fraction(5,8)\n",
    "F2.show()\n",
    "    "
   ]
  },
  {
   "cell_type": "code",
   "execution_count": 134,
   "metadata": {},
   "outputs": [
    {
     "name": "stdout",
     "output_type": "stream",
     "text": [
      "Vector(7, 7)\n"
     ]
    }
   ],
   "source": [
    "#Ques.10  Demonstrate operator overloading by creating a class Vector and overriding the add method to add two\n",
    "# vectors.\n",
    "\n",
    "class Vector:\n",
    "    def __init__(self, x, y):\n",
    "        self.x = x\n",
    "        self.y = y\n",
    "    \n",
    "    def __add__(self, other):\n",
    "        print(Vector(self.x + other.x, self.y + other.y))\n",
    "    \n",
    "    def __str__(self):\n",
    "        return f\"Vector({self.x}, {self.y})\"\n",
    "    \n",
    "V1 = Vector(2,4)\n",
    "V2 = Vector(5,3)\n",
    "V3 = V1 + V2\n",
    "\n",
    "    "
   ]
  },
  {
   "cell_type": "code",
   "execution_count": 67,
   "metadata": {},
   "outputs": [
    {
     "name": "stdout",
     "output_type": "stream",
     "text": [
      "Hello, my name is Abhi and I am 19 years old\n"
     ]
    }
   ],
   "source": [
    "#Ques.11  Create a class Person with attributes name and age. Add a method greet() that prints \"Hello, my name is\n",
    "#{name} and I am {age} years old.\"\n",
    "\n",
    "class Person:\n",
    "    def __init__(self , name ,age):\n",
    "        self.name = name\n",
    "        self.age = age\n",
    "    def greet(self):\n",
    "        print(f\"Hello, my name is {self.name} and I am {self.age} years old\")\n",
    "\n",
    "p1 = Person('Abhi',19)\n",
    "p1.greet()"
   ]
  },
  {
   "cell_type": "code",
   "execution_count": 136,
   "metadata": {},
   "outputs": [
    {
     "name": "stdout",
     "output_type": "stream",
     "text": [
      "Average Grades of Abhishek are 43.8\n"
     ]
    }
   ],
   "source": [
    "#Ques.12  Implement a class Student with attributes name and grades. Create a method average_grade() to compute\n",
    "# the average of the grades.\n",
    "\n",
    "class Student:\n",
    "    def __init__(self, name, grades):\n",
    "        self.name = name\n",
    "        self.grades = grades\n",
    "    def average_grade(self):\n",
    "        avg_grade = sum(self.grades) / len(self.grades) if self.grades else 0\n",
    "        print(f\"Average Grades of {self.name} are {avg_grade}\")\n",
    "\n",
    "S1 = Student(\"Abhishek\", [43,43,48,40,45])\n",
    "S1.average_grade()\n"
   ]
  },
  {
   "cell_type": "code",
   "execution_count": 71,
   "metadata": {},
   "outputs": [
    {
     "name": "stdout",
     "output_type": "stream",
     "text": [
      "Area of Rectangle is -> 20\n"
     ]
    }
   ],
   "source": [
    "#Ques.13  Create a class Rectangle with methods set_dimensions() to set the dimensions and area() to calculate the\n",
    "# area.\n",
    "\n",
    "class Rectangle:\n",
    "    def set_dimensions(self, length, breadth):\n",
    "        self.length = length\n",
    "        self.breadth = breadth\n",
    "    def area(self): \n",
    "        area = self.length * self.breadth\n",
    "        print(\"Area of Rectangle is ->\",area)\n",
    "\n",
    "R1 = Rectangle()\n",
    "R1.set_dimensions(4,5)\n",
    "R1.area()\n",
    "\n"
   ]
  },
  {
   "cell_type": "code",
   "execution_count": 81,
   "metadata": {},
   "outputs": [
    {
     "name": "stdout",
     "output_type": "stream",
     "text": [
      "Your Salary without Bonus in 12 hours is 0Rupees\n",
      "Your Salary with Bonus becomes 1700Rupees\n"
     ]
    }
   ],
   "source": [
    "#Ques.14  Create a class Employee with a method calculate_salary() that computes the salary based on hours worked\n",
    "# and hourly rate. Create a derived class Manager that adds a bonus to the salary.\n",
    "\n",
    "class Employee:\n",
    "    Salary = 0\n",
    "    def calculate_salary(self,hours):\n",
    "        hourSalary = 100\n",
    "        self.__Salary = hours * hourSalary\n",
    "        print(f\"Your Salary without Bonus in {hours} hours is {self.Salary}Rupees\")\n",
    "class Manager(Employee):\n",
    "    def Bonus(self, bonus):\n",
    "        self._Employee__Salary = self._Employee__Salary + bonus \n",
    "        print(f\"Your Salary with Bonus becomes {self._Employee__Salary}Rupees\")\n",
    "    \n",
    "S1 = Manager()\n",
    "S1.calculate_salary(12)\n",
    "S1.Bonus(500)\n"
   ]
  },
  {
   "cell_type": "code",
   "execution_count": 86,
   "metadata": {},
   "outputs": [
    {
     "name": "stdout",
     "output_type": "stream",
     "text": [
      "2 Redbull is added to the Cart\n",
      "Total Amount to be paid is -> 250\n"
     ]
    }
   ],
   "source": [
    "#Ques.15  Create a class Product with attributes name, price, and quantity. Implement a method total_price() that\n",
    "# calculates the total price of the product\n",
    "\n",
    "class Product:\n",
    "    def __init__(self, name, price, quantity):\n",
    "        self.name = name\n",
    "        self.price = price \n",
    "        self.quantity = quantity\n",
    "        print(f\"{self.quantity} {self.name} is added to the Cart\")\n",
    "\n",
    "    def total_price(self):\n",
    "        total_price = self.price * self.quantity\n",
    "        print(\"Total Amount to be paid is ->\",total_price)\n",
    "\n",
    "P1 = Product(\"Redbull\", 125, 2)\n",
    "P1.total_price()\n",
    "\n"
   ]
  },
  {
   "cell_type": "code",
   "execution_count": 90,
   "metadata": {},
   "outputs": [
    {
     "name": "stdout",
     "output_type": "stream",
     "text": [
      "Sheep's Sound\n",
      "Cow's Sound\n"
     ]
    }
   ],
   "source": [
    "#Ques.16  Create a class Animal with an abstract method sound(). Create two derived classes Cow and Sheep that\n",
    "# implement the sound() method.\n",
    "\n",
    "import abc\n",
    "class Animal:\n",
    "    @abc.abstractmethod \n",
    "    def sound():\n",
    "        print(\"Animal Sound\")\n",
    "class Cow(Animal):\n",
    "    def sound(self):\n",
    "        print(\"Cow's Sound\")\n",
    "class Sheep(Animal):\n",
    "    def sound(self):\n",
    "        print(\"Sheep's Sound\")\n",
    "\n",
    "A = Sheep()\n",
    "A.sound()\n",
    "B = Cow()\n",
    "B.sound()"
   ]
  },
  {
   "cell_type": "code",
   "execution_count": 95,
   "metadata": {},
   "outputs": [
    {
     "data": {
      "text/plain": [
       "'The Title is The Untold Story of Deepsee Creatures written by XYZ in 2025'"
      ]
     },
     "execution_count": 95,
     "metadata": {},
     "output_type": "execute_result"
    }
   ],
   "source": [
    "#Ques.17. Create a class Book with attributes title, author, and year_published. Add a method get_book_info() that\n",
    "# returns a formatted string with the book's details.\n",
    "\n",
    "class Book:\n",
    "    def __init__(self, title, author, year_published):\n",
    "        self.title = title\n",
    "        self.author = author\n",
    "        self.year_published = year_published\n",
    "    def get_book_info(self):\n",
    "        return f\"The Title is {self.title} written by {self.author} in {self.year_published}\"\n",
    "    \n",
    "Book1 = Book(\"The Untold Story of Deepsee Creatures\", 'XYZ', 2025)\n",
    "Book1.get_book_info()"
   ]
  },
  {
   "cell_type": "code",
   "execution_count": 147,
   "metadata": {},
   "outputs": [
    {
     "name": "stdout",
     "output_type": "stream",
     "text": [
      "Your Mansion is in Gurgaon of 10000000 Rupees and it has 5 Rooms\n"
     ]
    }
   ],
   "source": [
    "#Ques.18  Create a class House with attributes address and price. Create a derived class Mansion that adds an\n",
    "# attribute number_of_rooms.\n",
    "\n",
    "class House:\n",
    "    def __init__(self, address, price):\n",
    "        self.address = address\n",
    "        self.price = price\n",
    "class Mension(House):\n",
    "    def __init__(self, address, price, number_of_rooms):\n",
    "        super().__init__(address,price)\n",
    "        self.number_of_rooms = number_of_rooms\n",
    "    def info(self):\n",
    "        print(f\"Your Mansion is in {self.address} of {self.price} Rupees and it has {self.number_of_rooms} Rooms\")\n",
    "\n",
    "\n",
    "M1 = Mension(\"Gurgaon\", 10000000,5)\n",
    "M1.info()\n",
    "\n",
    "    "
   ]
  }
 ],
 "metadata": {
  "kernelspec": {
   "display_name": "Python 3",
   "language": "python",
   "name": "python3"
  },
  "language_info": {
   "codemirror_mode": {
    "name": "ipython",
    "version": 3
   },
   "file_extension": ".py",
   "mimetype": "text/x-python",
   "name": "python",
   "nbconvert_exporter": "python",
   "pygments_lexer": "ipython3",
   "version": "3.13.1"
  }
 },
 "nbformat": 4,
 "nbformat_minor": 2
}
