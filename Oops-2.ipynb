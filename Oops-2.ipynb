{
 "cells": [
  {
   "cell_type": "markdown",
   "metadata": {},
   "source": [
    "#Ques.1 What is Object-Oriented Programming (OOP)?\n",
    "- OOP is a way of programming where we create objects that have properties (data) and actions (functions). It makes coding easier and reusable.\n",
    "\n"
   ]
  },
  {
   "cell_type": "markdown",
   "metadata": {},
   "source": [
    "#Ques.2 What is a class in OOP?\n",
    "- A class is a blueprint for creating objects. It defines what data and actions an object will have.\n",
    "Example:"
   ]
  },
  {
   "cell_type": "code",
   "execution_count": 11,
   "metadata": {},
   "outputs": [],
   "source": [
    "class Car:\n",
    "    def __init__(self, brand, model):\n",
    "        self.brand = brand\n",
    "        self.model = model\n"
   ]
  },
  {
   "cell_type": "markdown",
   "metadata": {},
   "source": [
    "#Ques.3 What is an object in OOP?\n",
    "- An object is a real thing created from a class.\n",
    "\n",
    "Example:"
   ]
  },
  {
   "cell_type": "code",
   "execution_count": 12,
   "metadata": {},
   "outputs": [],
   "source": [
    "car1 = Car(\"Toyota\", \"Camry\")"
   ]
  },
  {
   "cell_type": "markdown",
   "metadata": {},
   "source": [
    "#Ques.4 What is the difference between abstraction and encapsulation?\n",
    "- Abstraction hides complex details and shows only the important parts.\n",
    "Encapsulation protects data from being changed directly.\n",
    "Example:"
   ]
  },
  {
   "cell_type": "code",
   "execution_count": 13,
   "metadata": {},
   "outputs": [],
   "source": [
    "class BankAccount:\n",
    "    def __init__(self, balance):\n",
    "        self.__balance = balance  # Encapsulation: Private variable\n",
    "\n",
    "    def get_balance(self):\n",
    "        return self.__balance  # Abstraction: Hiding details\n"
   ]
  },
  {
   "cell_type": "markdown",
   "metadata": {},
   "source": [
    "#Ques.5 What are dunder methods in Python?\n",
    "- Dunder (double underscore) methods are special methods with __ in their names, like __init__ and __str__.\n",
    "\n",
    "Example:"
   ]
  },
  {
   "cell_type": "code",
   "execution_count": 14,
   "metadata": {},
   "outputs": [],
   "source": [
    "class Person:\n",
    "    def __str__(self):\n",
    "        return \"This is a person\"\n"
   ]
  },
  {
   "cell_type": "markdown",
   "metadata": {},
   "source": [
    "#Ques.6 What is inheritance in OOP?\n",
    "- Inheritance lets one class use the properties and actions of another class.\n",
    "\n",
    "Example:"
   ]
  },
  {
   "cell_type": "code",
   "execution_count": 15,
   "metadata": {},
   "outputs": [],
   "source": [
    "class Animal:\n",
    "    def sound(self):\n",
    "        return \"Some sound\"\n",
    "\n",
    "class Dog(Animal):  # Inheriting from Animal\n",
    "    def sound(self):\n",
    "        return \"Bark\""
   ]
  },
  {
   "cell_type": "markdown",
   "metadata": {},
   "source": [
    "#Ques.7 What is polymorphism in OOP?\n",
    "- Polymorphism means using the same method name for different objects."
   ]
  },
  {
   "cell_type": "code",
   "execution_count": 16,
   "metadata": {},
   "outputs": [
    {
     "name": "stdout",
     "output_type": "stream",
     "text": [
      "Meow\n",
      "Bark\n"
     ]
    }
   ],
   "source": [
    "class Cat:\n",
    "    def sound(self):\n",
    "        return \"Meow\"\n",
    "\n",
    "class Dog:\n",
    "    def sound(self):\n",
    "        return \"Bark\"\n",
    "\n",
    "def make_sound(animal):\n",
    "    print(animal.sound())\n",
    "\n",
    "make_sound(Cat())  # Output: Meow\n",
    "make_sound(Dog())  # Output: Bark"
   ]
  },
  {
   "cell_type": "markdown",
   "metadata": {},
   "source": [
    "#Ques.8 How is encapsulation achieved in Python?\n",
    "- Encapsulation is done by making variables private (__).\n",
    "Example:"
   ]
  },
  {
   "cell_type": "code",
   "execution_count": 17,
   "metadata": {},
   "outputs": [],
   "source": [
    "class Bank:\n",
    "    def __init__(self, balance):\n",
    "        self.__balance = balance  # Private variable"
   ]
  },
  {
   "cell_type": "markdown",
   "metadata": {},
   "source": [
    "#Ques.9 What is a constructor in Python?\n",
    "- A constructor (__init__) is a function that runs when an object is created.\n",
    "\n",
    "Example:"
   ]
  },
  {
   "cell_type": "code",
   "execution_count": 18,
   "metadata": {},
   "outputs": [],
   "source": [
    "class Student:\n",
    "    def __init__(self, name):\n",
    "        self.name = name"
   ]
  },
  {
   "cell_type": "markdown",
   "metadata": {},
   "source": [
    "#Ques.10 What are class and static methods?\n",
    "- Class methods work with the class itself.\n",
    "Static methods don’t depend on the class or objects.\n",
    "Example:"
   ]
  },
  {
   "cell_type": "code",
   "execution_count": 19,
   "metadata": {},
   "outputs": [],
   "source": [
    "class Example:\n",
    "    @classmethod\n",
    "    def class_method(cls):\n",
    "        return \"Class method\"\n",
    "\n",
    "    @staticmethod\n",
    "    def static_method():\n",
    "        return \"Static method\""
   ]
  },
  {
   "cell_type": "markdown",
   "metadata": {},
   "source": [
    "#Ques.11 What is method overloading in Python?\n",
    "- Python does not support real method overloading, but we can use default values.\n",
    "\n",
    "Example:"
   ]
  },
  {
   "cell_type": "code",
   "execution_count": 20,
   "metadata": {},
   "outputs": [],
   "source": [
    "class Math:\n",
    "    def add(self, a, b, c=0):\n",
    "        return a + b + c"
   ]
  },
  {
   "cell_type": "markdown",
   "metadata": {},
   "source": [
    "#Ques.12 What is method overriding in OOP?\n",
    "- Method overriding happens when a child class changes a method from the parent class.\n",
    "\n",
    "Example:"
   ]
  },
  {
   "cell_type": "code",
   "execution_count": 21,
   "metadata": {},
   "outputs": [],
   "source": [
    "class Parent:\n",
    "    def show(self):\n",
    "        return \"Parent class\"\n",
    "\n",
    "class Child(Parent):\n",
    "    def show(self):\n",
    "        return \"Child class\""
   ]
  },
  {
   "cell_type": "markdown",
   "metadata": {},
   "source": [
    "#Ques.13 What is a property decorator in Python?\n",
    "- A property decorator (@property) makes a method act like a variable.\n",
    "\n",
    "Example:"
   ]
  },
  {
   "cell_type": "code",
   "execution_count": 22,
   "metadata": {},
   "outputs": [],
   "source": [
    "class Person:\n",
    "    def __init__(self, age):\n",
    "        self._age = age\n",
    "\n",
    "    @property\n",
    "    def age(self):\n",
    "        return self._age"
   ]
  },
  {
   "cell_type": "markdown",
   "metadata": {},
   "source": [
    "#Ques.14 Why is polymorphism important in OOP?\n",
    "- Polymorphism makes the code more flexible by allowing different classes to have the same method names."
   ]
  },
  {
   "cell_type": "markdown",
   "metadata": {},
   "source": [
    "#Ques.15 What is an abstract class in Python?\n",
    "- An abstract class cannot be used directly and must have at least one abstract method.\n",
    "\n",
    "Example:"
   ]
  },
  {
   "cell_type": "code",
   "execution_count": 23,
   "metadata": {},
   "outputs": [],
   "source": [
    "from abc import ABC, abstractmethod\n",
    "\n",
    "class Shape(ABC):\n",
    "    @abstractmethod\n",
    "    def area(self):\n",
    "        pass"
   ]
  },
  {
   "cell_type": "markdown",
   "metadata": {},
   "source": [
    "#Ques.16 What are the advantages of OOP?\n",
    "- Reusable code\n",
    "  Easy to manage\n",
    "  More secure (Encapsulation)\n",
    "  Less code duplication"
   ]
  },
  {
   "cell_type": "markdown",
   "metadata": {},
   "source": [
    "#Ques.17 What is the difference between a class variable and an instance variable?\n",
    "- Class Variable: Shared by all objects.\n",
    "Instance Variable: Unique for each object."
   ]
  },
  {
   "cell_type": "code",
   "execution_count": 24,
   "metadata": {},
   "outputs": [],
   "source": [
    "class Example:\n",
    "    class_var = \"Shared\"\n",
    "\n",
    "    def __init__(self, instance_var):\n",
    "        self.instance_var = instance_var"
   ]
  },
  {
   "cell_type": "markdown",
   "metadata": {},
   "source": [
    "#Ques.18 What is multiple inheritance in Python?\n",
    "- Multiple inheritance means a class can inherit from more than one parent class.\n",
    "\n",
    "Example:"
   ]
  },
  {
   "cell_type": "code",
   "execution_count": 25,
   "metadata": {},
   "outputs": [],
   "source": [
    "class A:\n",
    "    def method_A(self):\n",
    "        return \"A\"\n",
    "\n",
    "class B:\n",
    "    def method_B(self):\n",
    "        return \"B\"\n",
    "\n",
    "class C(A, B):  # Multiple Inheritance\n",
    "    pass"
   ]
  },
  {
   "cell_type": "markdown",
   "metadata": {},
   "source": [
    "#Ques.19 What are __str__ and __repr__ methods in Python?\n",
    "- __str__: Returns a readable string representation.\n",
    "__repr__: Returns a detailed string for debugging.\n",
    "Example:"
   ]
  },
  {
   "cell_type": "code",
   "execution_count": 26,
   "metadata": {},
   "outputs": [],
   "source": [
    "class Person:\n",
    "    def __str__(self):\n",
    "        return \"This is a person\"\n",
    "\n",
    "    def __repr__(self):\n",
    "        return \"Person()\""
   ]
  },
  {
   "cell_type": "markdown",
   "metadata": {},
   "source": [
    "#Ques.20 What is the significance of the super() function in Python?\n",
    "- The super() function allows a child class to call a method from its parent class. It is mainly used in inheritance.\n",
    "\n",
    "Example:"
   ]
  },
  {
   "cell_type": "code",
   "execution_count": 27,
   "metadata": {},
   "outputs": [
    {
     "name": "stdout",
     "output_type": "stream",
     "text": [
      "This is the Parent class\n",
      "This is the Child class\n"
     ]
    }
   ],
   "source": [
    "class Parent:\n",
    "    def show(self):\n",
    "        print(\"This is the Parent class\")\n",
    "\n",
    "class Child(Parent):\n",
    "    def show(self):\n",
    "        super().show()  # Calls Parent's show() method\n",
    "        print(\"This is the Child class\")\n",
    "\n",
    "obj = Child()\n",
    "obj.show()"
   ]
  },
  {
   "cell_type": "markdown",
   "metadata": {},
   "source": [
    "#Ques.21 What is the significance of the __del__ method in Python?\n",
    "- The __del__ method is called when an object is about to be destroyed (garbage collected). It is also called a destructor.\n",
    "\n",
    "Example:"
   ]
  },
  {
   "cell_type": "code",
   "execution_count": 28,
   "metadata": {},
   "outputs": [
    {
     "name": "stdout",
     "output_type": "stream",
     "text": [
      "Object created\n",
      "Object destroyed\n"
     ]
    }
   ],
   "source": [
    "class Example:\n",
    "    def __init__(self):\n",
    "        print(\"Object created\")\n",
    "\n",
    "    def __del__(self):\n",
    "        print(\"Object destroyed\")\n",
    "\n",
    "obj = Example()\n",
    "del obj  # Calls __del__ method"
   ]
  },
  {
   "cell_type": "markdown",
   "metadata": {},
   "source": [
    "#Ques.22 What is the difference between @staticmethod and @classmethod in Python?\n",
    "- @staticmethod does not take any class (cls) or instance (self) as an argument. It is like a normal function inside a class.\n",
    "@classmethod takes cls as an argument and can modify class-level variables."
   ]
  },
  {
   "cell_type": "code",
   "execution_count": 29,
   "metadata": {},
   "outputs": [
    {
     "name": "stdout",
     "output_type": "stream",
     "text": [
      "I am a static method\n",
      "Class Variable\n"
     ]
    }
   ],
   "source": [
    "class Example:\n",
    "    class_variable = \"Class Variable\"\n",
    "\n",
    "    @staticmethod\n",
    "    def static_method():\n",
    "        return \"I am a static method\"\n",
    "\n",
    "    @classmethod\n",
    "    def class_method(cls):\n",
    "        return cls.class_variable\n",
    "\n",
    "print(Example.static_method())  # No class data used\n",
    "print(Example.class_method())   # Uses class variable"
   ]
  },
  {
   "cell_type": "markdown",
   "metadata": {},
   "source": [
    "#Ques.23 How does polymorphism work in Python with inheritance?\n",
    "Polymorphism allows different classes to have the same method name but different behaviors.\n",
    "\n",
    "Example:"
   ]
  },
  {
   "cell_type": "code",
   "execution_count": 30,
   "metadata": {},
   "outputs": [
    {
     "name": "stdout",
     "output_type": "stream",
     "text": [
      "Bark\n",
      "Meow\n"
     ]
    }
   ],
   "source": [
    "class Animal:\n",
    "    def speak(self):\n",
    "        return \"Some sound\"\n",
    "\n",
    "class Dog(Animal):\n",
    "    def speak(self):\n",
    "        return \"Bark\"\n",
    "\n",
    "class Cat(Animal):\n",
    "    def speak(self):\n",
    "        return \"Meow\"\n",
    "\n",
    "animals = [Dog(), Cat()]\n",
    "for animal in animals:\n",
    "    print(animal.speak())  # Calls the correct method for each object"
   ]
  },
  {
   "cell_type": "markdown",
   "metadata": {},
   "source": [
    "#Ques.25 What is method chaining in Python OOP?\n",
    "- Method chaining allows multiple method calls on the same object in a single line.\n",
    "\n",
    "Example:"
   ]
  },
  {
   "cell_type": "code",
   "execution_count": 31,
   "metadata": {},
   "outputs": [
    {
     "name": "stdout",
     "output_type": "stream",
     "text": [
      "Step 1 completed\n",
      "Step 2 completed\n"
     ]
    },
    {
     "data": {
      "text/plain": [
       "<__main__.Example at 0x103ef1160>"
      ]
     },
     "execution_count": 31,
     "metadata": {},
     "output_type": "execute_result"
    }
   ],
   "source": [
    "class Example:\n",
    "    def step1(self):\n",
    "        print(\"Step 1 completed\")\n",
    "        return self  # Returning the object\n",
    "\n",
    "    def step2(self):\n",
    "        print(\"Step 2 completed\")\n",
    "        return self  # Returning the object\n",
    "\n",
    "obj = Example()\n",
    "obj.step1().step2()  # Method chaining"
   ]
  },
  {
   "cell_type": "markdown",
   "metadata": {},
   "source": [
    "#Ques.25 What is the purpose of the __call__ method in Python?\n",
    "- The __call__ method makes an object behave like a function.\n",
    "\n",
    "Example:"
   ]
  },
  {
   "cell_type": "code",
   "execution_count": 32,
   "metadata": {},
   "outputs": [
    {
     "name": "stdout",
     "output_type": "stream",
     "text": [
      "Hello, Alice!\n"
     ]
    }
   ],
   "source": [
    "class Example:\n",
    "    def __call__(self, name):\n",
    "        print(f\"Hello, {name}!\")\n",
    "\n",
    "obj = Example()\n",
    "obj(\"Alice\")  # Calling an object like a function"
   ]
  }
 ],
 "metadata": {
  "kernelspec": {
   "display_name": "Python 3",
   "language": "python",
   "name": "python3"
  },
  "language_info": {
   "codemirror_mode": {
    "name": "ipython",
    "version": 3
   },
   "file_extension": ".py",
   "mimetype": "text/x-python",
   "name": "python",
   "nbconvert_exporter": "python",
   "pygments_lexer": "ipython3",
   "version": "3.13.1"
  }
 },
 "nbformat": 4,
 "nbformat_minor": 2
}
